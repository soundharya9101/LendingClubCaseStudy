{
 "cells": [
  {
   "cell_type": "markdown",
   "id": "41aac179",
   "metadata": {},
   "source": [
    "# Default Loan detection"
   ]
  },
  {
   "cell_type": "markdown",
   "id": "4aaf0501",
   "metadata": {},
   "source": [
    "## Table of Contents\n",
    "* [General Info](#general-information)\n",
    "* [Technologies Used](#technologies-used)\n",
    "* [Conclusions](#conclusions)\n",
    "* [Acknowledgements](#acknowledgements)"
   ]
  },
  {
   "cell_type": "markdown",
   "id": "485e0bd8",
   "metadata": {},
   "source": [
    "## General Information"
   ]
  },
  {
   "cell_type": "markdown",
   "id": "649aa68e",
   "metadata": {},
   "source": [
    "**What is the background of your project?**\n",
    "<br>Consumer finance company which lending various types of loans to urban customers. When the company receives a loan application, the company has to make a decision for loan approval based on the applicant’s profile.\n",
    "<br>**Project objective :**To find which type of loan applicant is resulting in default(failed to repay the loan amount) for to reduce business loss and risk associated with that applicant."
   ]
  },
  {
   "cell_type": "markdown",
   "id": "93aa8616",
   "metadata": {},
   "source": [
    "**What is the business probem that your project is trying to solve?**\n",
    "<br>There are two type of risk associated with loan applicant:\n",
    "    <br>1) If the applicant is likely to repay the loan, then not approving the loan results in a loss of business to the company.\n",
    "    <br>2) If the applicant is not likely to repay the loan, i.e. he/she is likely to default, then approving the loan may lead to a financial loss for the company."
   ]
  },
  {
   "cell_type": "markdown",
   "id": "c61634b2",
   "metadata": {},
   "source": [
    "**What is the dataset that is being used?**\n",
    "<br>loan data of all Accepted loan applicants through the time period 2007 to 2011."
   ]
  },
  {
   "cell_type": "markdown",
   "id": "90835ca4",
   "metadata": {},
   "source": [
    "## Conclusions"
   ]
  },
  {
   "cell_type": "markdown",
   "id": "aca602ed",
   "metadata": {},
   "source": [
    "1)The loan applicant with the work experience 0 to 2.5 years is having more chance to end up in charge off.\n",
    "<br>2)The number of loan applicant very less in ‘other’ home ownership, but having high chance to end up in default.\n",
    "There are more loan applicant in Mortage and Rent type of home ownership, where the number of loan applicant resulting in default is also high.\n",
    "<br>3)The number of applicant for grade G but which causing 33.77 %  of them in defaultThe grade – G have high chance to end up in default compared to other grades.The propability to charge off is increasing as grade increase from A to G.\n",
    "As the number of applicant in Grade A, B and C are high , the number of charge off is also high.\n",
    "<br>4)The loan applicant with sub grade F4,F5,G1,G2,G3 and G5 having highest probability of charge off rate.\n",
    "<br>5)Applicants who take loan on 'SMALL BUSINESS' Purpose are likely to charge off with 27.08% followed by renewable energy and educational.\n",
    "<br>6)The lesser the annual income, the higher the probability to be default. As seen in Fig-1 , the lesser salary range 0 to 20000 have highest charge of rate as 20%.\n",
    "<br>7)The higher the interest rate, higher will be the probability to default.\n",
    "<br>8)Installment, funded_amnt_inv, funded_amnt and loan_amnt are highly correlated.\n",
    "<br>9)Higher the DTI, higher the chance for charge off!\n",
    "<br>10)Charged off Rate is high for applicants who take 60 months term."
   ]
  },
  {
   "cell_type": "markdown",
   "id": "7062522a",
   "metadata": {},
   "source": [
    "## Technologies Used"
   ]
  },
  {
   "cell_type": "markdown",
   "id": "7a04edc6",
   "metadata": {},
   "source": [
    "Pandas - 1.4.2\n",
    "<br>Numpy - 1.21.5\n",
    "<br>Notebook - 6.4.8\n",
    "<br>matplotlib - 3.5.1\n",
    "<br>seaborn - 0.11.2"
   ]
  },
  {
   "cell_type": "markdown",
   "id": "483dcf47",
   "metadata": {},
   "source": [
    "## Acknowledgements"
   ]
  },
  {
   "cell_type": "markdown",
   "id": "43d3e0ec",
   "metadata": {},
   "source": [
    "This project was inspired to find default loan applicant."
   ]
  },
  {
   "cell_type": "markdown",
   "id": "1c995dd7",
   "metadata": {},
   "source": [
    "## Contact"
   ]
  },
  {
   "cell_type": "markdown",
   "id": "74e7b53c",
   "metadata": {},
   "source": [
    "Github Username - soundharya9101\n",
    "<br>Email ID - soundharyaila9101@gmail.com\n",
    "<br>Github Username - NigamaVeena\n",
    "<br>Email ID - nigamaveena@gmail.com"
   ]
  }
 ],
 "metadata": {
  "kernelspec": {
   "display_name": "Python 3 (ipykernel)",
   "language": "python",
   "name": "python3"
  },
  "language_info": {
   "codemirror_mode": {
    "name": "ipython",
    "version": 3
   },
   "file_extension": ".py",
   "mimetype": "text/x-python",
   "name": "python",
   "nbconvert_exporter": "python",
   "pygments_lexer": "ipython3",
   "version": "3.9.12"
  }
 },
 "nbformat": 4,
 "nbformat_minor": 5
}
